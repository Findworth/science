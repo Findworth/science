{
 "cells": [
  {
   "cell_type": "markdown",
   "source": [
    "1. Simplex Method --单纯形法\n",
    "2.  Decompositional--（矩阵）分解\n",
    "3.  a culmination of ideas --思想的结晶\n",
    "4. nondeterministic processes--不确定性过程\n",
    "5.  trade-offs--权衡\n",
    "6. stochastic gradient descent--SGD\n",
    "7. Floating Point Arithmetic---浮点计算\n",
    "8. perturbations---扰动\n",
    "9. optimal--最佳的\n",
    "10. orthogonal.--正交\n",
    "11. Singular Value--奇异值\n",
    "12. semantic analysis---语义分析\n",
    "13. collaborative filtering/recommendations---协同过滤和推荐\n",
    "14. square matrix--方阵"
   ],
   "metadata": {
    "collapsed": false
   },
   "id": "ad7390fbca93a48e"
  }
 ],
 "metadata": {
  "kernelspec": {
   "display_name": "Python 3",
   "language": "python",
   "name": "python3"
  },
  "language_info": {
   "codemirror_mode": {
    "name": "ipython",
    "version": 2
   },
   "file_extension": ".py",
   "mimetype": "text/x-python",
   "name": "python",
   "nbconvert_exporter": "python",
   "pygments_lexer": "ipython2",
   "version": "2.7.6"
  }
 },
 "nbformat": 4,
 "nbformat_minor": 5
}
