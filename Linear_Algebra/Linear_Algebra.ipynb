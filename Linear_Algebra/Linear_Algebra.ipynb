{
 "cells": [
  {
   "cell_type": "markdown",
   "source": [
    "矩阵的LU分解\n",
    "1. 分解之后，矩阵形式并不等于原矩阵，但是det一定相等，原方程组和后来的是等价的\n",
    "2. 当A的前n阶主子式都不为0时，才有LU分解\n",
    "3. 这个LU分解叫做行尺度的LU分解，不是普通的LU分解\n",
    "4. 普通的LU分解可以理解为秩1矩阵之和"
   ],
   "metadata": {
    "collapsed": false
   },
   "id": "b39b47f5035f65c1"
  },
  {
   "cell_type": "code",
   "execution_count": null,
   "outputs": [],
   "source": [
    "import numpy as np\n",
    "from scipy.linalg import lu\n",
    "\n",
    "B = np.array([[3, -7, -2, 2], \n",
    "              [-3, 5, 1, 0], \n",
    "              [6, -4, 0, -5], \n",
    "              [-9, 5, -5, 12]])\n",
    "\n",
    "A = np.array([[2, 3, -6], \n",
    "              [1, -6, 8], \n",
    "              [3, -2, 1]])\n",
    "\n",
    "P, L, U = lu(A)\n",
    "F = np.dot(L, U)\n",
    "print(P)\n",
    "print(L)\n",
    "print(U)\n",
    "print(f\"A's det is {np.linalg.det(A)}\")\n",
    "print(np.linalg.det(P @ A) == np.linalg.det(F))\n",
    "print(P @ A == F)"
   ],
   "metadata": {
    "collapsed": false
   },
   "id": "433554c0a7091dc2"
  },
  {
   "cell_type": "markdown",
   "source": [],
   "metadata": {
    "collapsed": false
   },
   "id": "67fbe24c9d8045f"
  },
  {
   "cell_type": "markdown",
   "source": [],
   "metadata": {
    "collapsed": false
   },
   "id": "2ae50f5a4d10eb3c"
  },
  {
   "cell_type": "markdown",
   "source": [],
   "metadata": {
    "collapsed": false
   },
   "id": "3757e98ab7818964"
  },
  {
   "cell_type": "markdown",
   "source": [
    "马尔科夫链\n",
    "1. X--状态向量\n",
    "2. P--随机矩阵，每列都是概率向量，和为1\n",
    "3. 实际上是全概率定理"
   ],
   "metadata": {
    "collapsed": false
   },
   "id": "ca5685f7977686a1"
  },
  {
   "cell_type": "code",
   "execution_count": null,
   "outputs": [],
   "source": [
    "import numpy as np\n",
    "X_one = np.array([0.85, 0.10, 0.05, 0.00]).reshape(4, 1)\n",
    "P = np.array([[0.90, 0.00, 0.00, 0.00], \n",
    "              [0.07, 0.93, 0.00, 0.00], \n",
    "              [0.02, 0.05, 0.85, 0.00], \n",
    "              [0.01, 0.02, 0.15, 1.00]])\n",
    "X_two = P @ X_one\n",
    "print(f\"经过一年后的状态向量\"\n",
    "      f\" {X_two}\")"
   ],
   "metadata": {
    "collapsed": false
   },
   "id": "a40cba6becbe9c4e"
  },
  {
   "cell_type": "markdown",
   "source": [],
   "metadata": {
    "collapsed": false
   },
   "id": "2c61417f95df7273"
  },
  {
   "cell_type": "markdown",
   "source": [],
   "metadata": {
    "collapsed": false
   },
   "id": "79bed2d03c74882e"
  },
  {
   "cell_type": "markdown",
   "source": [],
   "metadata": {
    "collapsed": false
   },
   "id": "9edc327edeff1fb2"
  },
  {
   "cell_type": "markdown",
   "source": [
    "计算机计算/存储数字的问题(when repeating an operation many times, since each operation could multiply the error)\n"
   ],
   "metadata": {
    "collapsed": false
   },
   "id": "b4e7d75166125e41"
  },
  {
   "cell_type": "code",
   "execution_count": null,
   "outputs": [],
   "source": [
    "def f(x):\n",
    "    if x <= 1/2:\n",
    "        return 2 * x\n",
    "    if x > 1/2:\n",
    "        return 2*x - 1\n",
    "\n",
    "\n",
    "x = 1/10\n",
    "for i in range(80):\n",
    "    print(x)\n",
    "    x = f(x)\n",
    "# 理应是一个循环(计算前10次的结果)"
   ],
   "metadata": {
    "collapsed": false
   },
   "id": "60572be7993e70ed"
  },
  {
   "cell_type": "markdown",
   "source": [
    "1. suppress: 当设置为 True 时，可以抑制数组中的科学计数法表示\n",
    "2. precision: 指定浮点数的打印精度（小数点后的位数）。默认值为6\n",
    "3. BLAS and LAPACK,numpy执行线性代数幕后的package"
   ],
   "metadata": {
    "collapsed": false
   },
   "id": "caf68c7d3e6c24fc"
  },
  {
   "cell_type": "code",
   "execution_count": null,
   "outputs": [],
   "source": [
    "import scipy.linalg as la\n",
    "import numpy as np\n",
    "A = np.array([[1., 1000], [0, 1]])\n",
    "B = np.array([[1, 1000], [0.001, 1]])\n",
    "np.set_printoptions(suppress=True, precision=4)\n",
    "wA, vrA = la.eig(A)\n",
    "wB, vrB = la.eig(B)\n",
    "print(wA)\n",
    "print(wB)"
   ],
   "metadata": {
    "collapsed": false
   },
   "id": "54fc4de153f0f875"
  },
  {
   "cell_type": "markdown",
   "source": [
    "影响计算速度的因素\n",
    "1. Computational complexity\n",
    "2. Vectorization\n",
    "3. Matrix Computation Packages: BLAS and LAPACK\n",
    "4. Locality\n",
    "5. Scaling to multiple cores and nodes\n",
    "6. Scalability / parallelization\n",
    "7. Sparse vs Dense"
   ],
   "metadata": {
    "collapsed": false
   },
   "id": "7614b66ee9e172a8"
  },
  {
   "cell_type": "markdown",
   "source": [],
   "metadata": {
    "collapsed": false
   },
   "id": "69a982bfd881f2e0"
  },
  {
   "cell_type": "markdown",
   "source": [],
   "metadata": {
    "collapsed": false
   },
   "id": "5b6fb12dd7705293"
  },
  {
   "cell_type": "markdown",
   "source": [],
   "metadata": {
    "collapsed": false
   },
   "id": "b86a30293b92be5a"
  },
  {
   "cell_type": "markdown",
   "source": [
    "1. 对角占优矩阵（Diagonally Dominant Matrix）是一种特殊类型的矩阵，,特点是每一行的对角线元素的绝对值都大于或等于该行其他元素绝对值的和\n",
    "2. 非奇异，有LU分解\n",
    "3. 行尺度LU分解不用选择主元，是自然顺序"
   ],
   "metadata": {
    "collapsed": false
   },
   "id": "12ad084b7ba00612"
  },
  {
   "cell_type": "markdown",
   "source": [],
   "metadata": {
    "collapsed": false
   },
   "id": "e785eb0997fd4209"
  },
  {
   "cell_type": "markdown",
   "source": [],
   "metadata": {
    "collapsed": false
   },
   "id": "20e8cc8788fb3ab7"
  },
  {
   "cell_type": "markdown",
   "source": [],
   "metadata": {
    "collapsed": false
   },
   "id": "926d06dae5279d83"
  },
  {
   "cell_type": "markdown",
   "source": [
    "Topic Modeling with NMF and SVD\n",
    "1. 未考虑词的顺序和句的结构，是一个词袋方法\n",
    "2. 分解为3个矩阵\n",
    "3. 类内相似，类间不相似\n",
    "4. SVD也可以看作秩1矩阵的组合"
   ],
   "metadata": {
    "collapsed": false
   },
   "id": "71e92b6be2acad8b"
  },
  {
   "cell_type": "code",
   "execution_count": null,
   "outputs": [],
   "source": [
    "import numpy as np\n",
    "from sklearn import decomposition\n",
    "from scipy import linalg\n",
    "import matplotlib.pyplot as plt\n",
    "from sklearn.datasets import fetch_20newsgroups\n",
    "%matplotlib inline\n",
    "np.set_printoptions(suppress=True)\n",
    "\n",
    "categories = ['alt.atheism', 'talk.religion.misc', 'comp.graphics', 'sci.space']\n",
    "remove = ('headers', 'footers', 'quotes')\n",
    "newsgroups_train = fetch_20newsgroups(subset='train', categories=categories, remove=remove)\n",
    "newsgroups_test = fetch_20newsgroups(subset='test', categories=categories, remove=remove)\n",
    "print(newsgroups_train.shape)\n",
    "print(newsgroups_test.shape)\n",
    "print(\"\\n\".join(newsgroups_train.data[:3]))"
   ],
   "metadata": {
    "collapsed": false
   },
   "id": "b18f88f3e9b8d2a3"
  },
  {
   "cell_type": "markdown",
   "source": [],
   "metadata": {
    "collapsed": false
   },
   "id": "4e775b91103fa86a"
  },
  {
   "cell_type": "markdown",
   "source": [],
   "metadata": {
    "collapsed": false
   },
   "id": "396e59bb08a329f5"
  },
  {
   "cell_type": "markdown",
   "source": [],
   "metadata": {
    "collapsed": false
   },
   "id": "8d87214878f996f2"
  },
  {
   "cell_type": "markdown",
   "source": [
    "矩阵的CSR格式，存储稀疏矩阵\n",
    "1. 数据数组（Data）：存储非零元素的值\n",
    "2. 行指针数组（Row Pointers） 第一个元素总是0，之后的元素是每一行元素的个数的累计和\n",
    "3. 列索引数组（Column Indices）\n"
   ],
   "metadata": {
    "collapsed": false
   },
   "id": "be76c4b3023bde5c"
  },
  {
   "cell_type": "code",
   "execution_count": 2,
   "outputs": [
    {
     "name": "stdout",
     "output_type": "stream",
     "text": [
      "  (0, 0)\t1\n",
      "  (0, 1)\t2\n",
      "  (1, 1)\t3\n",
      "  (1, 2)\t5\n",
      "  (2, 0)\t8\n",
      "  (2, 2)\t4\n"
     ]
    }
   ],
   "source": [
    "# todo 创建一个稀疏矩阵\n",
    "import numpy as np\n",
    "from scipy.sparse import csr_matrix\n",
    "data = np.array([1, 2, 3, 5, 8, 4])\n",
    "indptr = np.array([0, 2, 4, 6])\n",
    "indices = np.array([0, 1, 1, 2, 0, 2])\n",
    "A_csr = csr_matrix((data, indices, indptr), shape=(3, 3))\n",
    "print(A_csr)"
   ],
   "metadata": {
    "collapsed": false,
    "ExecuteTime": {
     "end_time": "2024-07-27T01:59:21.381546700Z",
     "start_time": "2024-07-27T01:59:21.357764800Z"
    }
   },
   "id": "873507ea561f5201"
  },
  {
   "cell_type": "markdown",
   "source": [
    "秩1矩阵\n",
    "由一个列向量和一个行向量的乘法得到"
   ],
   "metadata": {
    "collapsed": false
   },
   "id": "5c53bbde3a7319ea"
  },
  {
   "cell_type": "code",
   "execution_count": null,
   "outputs": [],
   "source": [
    "import numpy as np\n",
    "a = np.array([1, 2, 5]).reshape(3, 1)\n",
    "b = np.array([4, 2, 1]).reshape(1, 3)\n",
    "# todo 计算矩阵的秩\n",
    "print(np.linalg.matrix_rank(a @ b))"
   ],
   "metadata": {
    "collapsed": false
   },
   "id": "56d8296785495445"
  },
  {
   "cell_type": "markdown",
   "source": [
    "投影矩阵\n",
    "1. P**2 == P， 意味着对任意向量 𝑣，当 𝑣被𝑃作用一次后，再作用一次 P 不会改变结果。也就是说，P 的作用是将向量“投影”到某个子空间上--幂等性\n",
    "2. 若对称，则叫做正交投影矩阵\n",
    "3. 投影矩阵的特征值只能是 0 或 1。特征值为 1 的特征向量属于投影子空间，而特征值为 0 的特征向量属于投影子空间的正交补(零空间和行空间相互垂直，秩定理)(核)\n",
    "4. "
   ],
   "metadata": {
    "collapsed": false
   },
   "id": "5a3740ed9e6636b8"
  },
  {
   "cell_type": "markdown",
   "source": [],
   "metadata": {
    "collapsed": false
   },
   "id": "f801c8a737369698"
  },
  {
   "cell_type": "markdown",
   "source": [],
   "metadata": {
    "collapsed": false
   },
   "id": "b5ad593082003e41"
  },
  {
   "cell_type": "markdown",
   "source": [],
   "metadata": {
    "collapsed": false
   },
   "id": "4e73ff9dad7594b1"
  },
  {
   "cell_type": "markdown",
   "source": [
    "QR分解，正交化过程·"
   ],
   "metadata": {
    "collapsed": false
   },
   "id": "695f04c3b5c80dfe"
  },
  {
   "cell_type": "code",
   "execution_count": 5,
   "outputs": [
    {
     "name": "stdout",
     "output_type": "stream",
     "text": [
      "矩阵 A:\n",
      "[[ 1  2  3]\n",
      " [ 4  5  6]\n",
      " [ 7  8 10]]\n",
      "正交矩阵 Q:\n",
      "[[-0.12309149  0.90453403  0.40824829]\n",
      " [-0.49236596  0.30151134 -0.81649658]\n",
      " [-0.86164044 -0.30151134  0.40824829]]\n",
      "上三角矩阵 R:\n",
      "[[ -8.1240384   -9.6011363  -11.93987462]\n",
      " [  0.           0.90453403   1.50755672]\n",
      " [  0.           0.           0.40824829]]\n",
      "True\n"
     ]
    }
   ],
   "source": [
    "import numpy as np\n",
    "\n",
    "# 定义一个矩阵 A\n",
    "A = np.array([[1, 2, 3],\n",
    "              [4, 5, 6],\n",
    "              [7, 8, 10]])\n",
    "\n",
    "# 使用 numpy.linalg.qr 进行 QR 分解\n",
    "Q, R = np.linalg.qr(A)\n",
    "\n",
    "# 打印结果\n",
    "print(\"矩阵 A:\")\n",
    "print(A)\n",
    "print(\"正交矩阵 Q:\")\n",
    "print(Q)\n",
    "print(\"上三角矩阵 R:\")\n",
    "print(R)\n",
    "print(np.allclose(Q @ Q.T, np.eye(Q.shape[0])))"
   ],
   "metadata": {
    "collapsed": false,
    "ExecuteTime": {
     "end_time": "2024-07-27T02:57:33.666240800Z",
     "start_time": "2024-07-27T02:57:33.652246200Z"
    }
   },
   "id": "9f538a0e35f2b0b8"
  },
  {
   "cell_type": "markdown",
   "source": [],
   "metadata": {
    "collapsed": false
   },
   "id": "2f78dc8be95f5ff3"
  },
  {
   "cell_type": "markdown",
   "source": [],
   "metadata": {
    "collapsed": false
   },
   "id": "d4c2667fc07ad803"
  },
  {
   "cell_type": "markdown",
   "source": [
    "对称矩阵的对角化\n",
    "1. 特征向量是正交矩阵，已经单位化"
   ],
   "metadata": {
    "collapsed": false
   },
   "id": "3f67e9f5507566c6"
  },
  {
   "cell_type": "code",
   "execution_count": 12,
   "outputs": [
    {
     "name": "stdout",
     "output_type": "stream",
     "text": [
      "这是特征值：[1.38196601 3.61803399]\n",
      "特征向量:\n",
      "[[-0.85065081 -0.52573111]\n",
      " [ 0.52573111 -0.85065081]]\n",
      "True\n",
      "对角阵[[1.38196601 0.        ]\n",
      " [0.         3.61803399]]\n",
      "验证True\n",
      "验证True\n"
     ]
    }
   ],
   "source": [
    "import numpy as np\n",
    "\n",
    "# 定义一个对称矩阵\n",
    "A = np.array([[2, 1],\n",
    "              [1, 3]])\n",
    "eigenvalues, eigenvectors = np.linalg.eig(A)\n",
    "print(f\"这是特征值：{eigenvalues}\")\n",
    "print(\"特征向量:\")\n",
    "print(eigenvectors)\n",
    "print(np.allclose(eigenvectors@eigenvectors.T, np.eye(eigenvectors.shape[0])))\n",
    "# 构造对角矩阵\n",
    "D = np.diag(eigenvalues)\n",
    "print(f\"对角阵{D}\")\n",
    "print(f\"验证{np.allclose(A, eigenvectors@ D @np.linalg.inv(eigenvectors))}\")\n",
    "print(f\"验证{np.allclose(A, eigenvectors@ D @ eigenvectors.T)}\")"
   ],
   "metadata": {
    "collapsed": false,
    "ExecuteTime": {
     "end_time": "2024-07-27T03:09:08.452740700Z",
     "start_time": "2024-07-27T03:09:08.436169900Z"
    }
   },
   "id": "8336ab6fd3d7cb35"
  },
  {
   "cell_type": "code",
   "execution_count": null,
   "outputs": [],
   "source": [],
   "metadata": {
    "collapsed": false
   },
   "id": "fc9d517f59d2d7a2"
  }
 ],
 "metadata": {
  "kernelspec": {
   "display_name": "Python 3",
   "language": "python",
   "name": "python3"
  },
  "language_info": {
   "codemirror_mode": {
    "name": "ipython",
    "version": 2
   },
   "file_extension": ".py",
   "mimetype": "text/x-python",
   "name": "python",
   "nbconvert_exporter": "python",
   "pygments_lexer": "ipython2",
   "version": "2.7.6"
  }
 },
 "nbformat": 4,
 "nbformat_minor": 5
}
